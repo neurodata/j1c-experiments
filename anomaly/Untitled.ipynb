{
 "cells": [
  {
   "cell_type": "code",
   "execution_count": 60,
   "metadata": {},
   "outputs": [],
   "source": [
    "import numpy as np\n",
    "import graspy\n",
    "from scipy.special import gamma\n",
    "\n",
    "from graspy.embed import MultipleASE, OmnibusEmbed\n",
    "\n",
    "import matplotlib.pyplot as plt\n",
    "import seaborn as sns\n",
    "\n",
    "%matplotlib inline"
   ]
  },
  {
   "cell_type": "code",
   "execution_count": 43,
   "metadata": {},
   "outputs": [],
   "source": [
    "A = [np.genfromtxt(f\"./data/data{i}.csv\") for i in range(1, 13)]"
   ]
  },
  {
   "cell_type": "code",
   "execution_count": 81,
   "metadata": {},
   "outputs": [],
   "source": [
    "stats = []\n",
    "for i in range(len(A) - 1):\n",
    "    omni = OmnibusEmbed(1).fit_transform(A[i:i+2])\n",
    "    stats.append(np.linalg.norm(omni[0]-omni[1], ord=2))\n",
    "    \n",
    "stats = np.array(stats)"
   ]
  },
  {
   "cell_type": "code",
   "execution_count": null,
   "metadata": {},
   "outputs": [],
   "source": [
    "\t\n",
    "1\n",
    "0.7053423\n",
    "2\n",
    "0.6995793\n",
    "3\n",
    "0.6665466\n",
    "4\n",
    "0.6341338\n",
    "5\n",
    "4.9996071\n",
    "6\n",
    "4.9538934\n",
    "7\n",
    "0.6618963\n",
    "8\n",
    "0.6775521\n",
    "9\n",
    "0.6503313\n",
    "10\n",
    "0.7361738\n",
    "11\n",
    "0.6500253\n"
   ]
  },
  {
   "cell_type": "code",
   "execution_count": 108,
   "metadata": {},
   "outputs": [
    {
     "data": {
      "text/plain": [
       "array([0.63125984, 4.9746039 , 4.92913709, 0.65879168, 0.6744603 ,\n",
       "       0.64743859, 0.73283124, 0.64703229])"
      ]
     },
     "execution_count": 108,
     "metadata": {},
     "output_type": "execute_result"
    }
   ],
   "source": [
    "stats[3:]"
   ]
  },
  {
   "cell_type": "code",
   "execution_count": 84,
   "metadata": {},
   "outputs": [
    {
     "data": {
      "text/plain": [
       "array([0.00583689, 0.03324517, 0.03177637, 4.34334406, 0.04546681,\n",
       "       4.27034542, 0.01566862, 0.0270217 , 0.08539264, 0.08579895])"
      ]
     },
     "execution_count": 84,
     "metadata": {},
     "output_type": "execute_result"
    }
   ],
   "source": [
    "diffs = np.abs(np.diff(stats))\n",
    "diffs"
   ]
  },
  {
   "cell_type": "markdown",
   "metadata": {},
   "source": [
    "\t\n",
    "1\n",
    "0.01719670\n",
    "2\n",
    "0.02900955\n",
    "3\n",
    "1.94941763\n",
    "4\n",
    "1.95531343\n",
    "5\n",
    "1.92274415\n",
    "6\n",
    "1.90942060\n",
    "7\n",
    "0.01900559\n",
    "8\n",
    "0.05011674\n"
   ]
  },
  {
   "cell_type": "code",
   "execution_count": 98,
   "metadata": {},
   "outputs": [],
   "source": [
    "l = 4\n",
    "\n",
    "stds = []\n",
    "for i in range(len(A)-l):\n",
    "    stds.append(diffs[i:i+l-2].sum() / (1.128*(l-2)))\n",
    "    \n",
    "stds = np.array(stds)"
   ]
  },
  {
   "cell_type": "code",
   "execution_count": 99,
   "metadata": {},
   "outputs": [
    {
     "data": {
      "text/plain": [
       "array([0.01732361, 0.0288216 , 1.93932643, 1.94539489, 1.91303733,\n",
       "       1.89982892, 0.01892301, 0.04982905])"
      ]
     },
     "execution_count": 99,
     "metadata": {},
     "output_type": "execute_result"
    }
   ],
   "source": [
    "stds"
   ]
  },
  {
   "cell_type": "code",
   "execution_count": 104,
   "metadata": {},
   "outputs": [],
   "source": [
    "stats_mean = []\n",
    "\n",
    "for i in range(len(A)):\n",
    "    if i >= 4:\n",
    "        stats_mean.append(stats[i-l:i-1].sum() / 3)"
   ]
  },
  {
   "cell_type": "code",
   "execution_count": 105,
   "metadata": {},
   "outputs": [],
   "source": [
    "lower = stats_mean - 3 * stds\n",
    "upper = stats_mean + 3 * stds"
   ]
  },
  {
   "cell_type": "code",
   "execution_count": 109,
   "metadata": {},
   "outputs": [
    {
     "data": {
      "text/plain": [
       "[0.687145282615711,\n",
       " 0.6635258068115965,\n",
       " 2.0896333152922852,\n",
       " 3.5116669442656545,\n",
       " 3.5208442238132105,\n",
       " 2.087463021527574,\n",
       " 0.6602301887196483,\n",
       " 0.684910042664789]"
      ]
     },
     "execution_count": 109,
     "metadata": {},
     "output_type": "execute_result"
    }
   ],
   "source": [
    "stats_mean"
   ]
  },
  {
   "cell_type": "code",
   "execution_count": 110,
   "metadata": {},
   "outputs": [
    {
     "data": {
      "text/plain": [
       "array([0.01732361, 0.0288216 , 1.93932643, 1.94539489, 1.91303733,\n",
       "       1.89982892, 0.01892301, 0.04982905])"
      ]
     },
     "execution_count": 110,
     "metadata": {},
     "output_type": "execute_result"
    }
   ],
   "source": [
    "stds"
   ]
  },
  {
   "cell_type": "code",
   "execution_count": 111,
   "metadata": {},
   "outputs": [
    {
     "data": {
      "text/plain": [
       "array([0.73911611, 0.74999062, 7.90761261, 9.34785162, 9.25995623,\n",
       "       7.78694977, 0.71699923, 0.8343972 ])"
      ]
     },
     "execution_count": 111,
     "metadata": {},
     "output_type": "execute_result"
    }
   ],
   "source": [
    "upper"
   ]
  },
  {
   "cell_type": "code",
   "execution_count": 129,
   "metadata": {},
   "outputs": [
    {
     "name": "stderr",
     "output_type": "stream",
     "text": [
      "/Users/j1c/miniconda3/envs/j1c/lib/python3.7/site-packages/ipykernel_launcher.py:13: UserWarning: FixedFormatter should only be used together with FixedLocator\n",
      "  del sys.path[0]\n"
     ]
    },
    {
     "data": {
      "text/plain": [
       "[Text(-1.0, 0, '3:4'),\n",
       " Text(0.0, 0, '4:5'),\n",
       " Text(1.0, 0, '5:6'),\n",
       " Text(2.0, 0, '6:7'),\n",
       " Text(3.0, 0, '7:8'),\n",
       " Text(4.0, 0, '8:9'),\n",
       " Text(5.0, 0, '9:10'),\n",
       " Text(6.0, 0, '10:11'),\n",
       " Text(7.0, 0, '11:12'),\n",
       " Text(8.0, 0, '12:13')]"
      ]
     },
     "execution_count": 129,
     "metadata": {},
     "output_type": "execute_result"
    },
    {
     "data": {
      "image/png": "[encoded data removed]",
      "text/plain": [
       "<Figure size 720x432 with 1 Axes>"
      ]
     },
     "metadata": {
      "needs_background": "light"
     },
     "output_type": "display_data"
    }
   ],
   "source": [
    "sns.set_context('talk')\n",
    "\n",
    "fig, ax = plt.subplots(figsize=(10, 6))\n",
    "\n",
    "ax.plot(range(len(stats[3:])), stats[3:], 'o-')\n",
    "#ax.step(range(len(stats[3:])), lower, where='post', label='Lower CL')\n",
    "ax.step(range(len(stats[3:])), upper, where='post', label='Upper CL')\n",
    "ax.step(range(len(stats[3:])), stats_mean, where='post', label='Mean')\n",
    "\n",
    "fig.legend()\n",
    "\n",
    "ax.set_ylabel(\"y^t\")\n",
    "ax.set_xticklabels([f\"{i}:{i+1}\" for i in range(3,13)])"
   ]
  },
  {
   "cell_type": "code",
   "execution_count": 130,
   "metadata": {},
   "outputs": [],
   "source": [
    "fig.savefig('test.png', dpi=300, bbox_inches='tight')"
   ]
  },
  {
   "cell_type": "code",
   "execution_count": null,
   "metadata": {},
   "outputs": [],
   "source": []
  }
 ],
 "metadata": {
  "kernelspec": {
   "display_name": "Python 3",
   "language": "python",
   "name": "python3"
  },
  "language_info": {
   "codemirror_mode": {
    "name": "ipython",
    "version": 3
   },
   "file_extension": ".py",
   "mimetype": "text/x-python",
   "name": "python",
   "nbconvert_exporter": "python",
   "pygments_lexer": "ipython3",
   "version": "3.7.7"
  }
 },
 "nbformat": 4,
 "nbformat_minor": 4
}
